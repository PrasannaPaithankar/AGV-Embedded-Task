{
 "cells": [
  {
   "cell_type": "code",
   "execution_count": 1,
   "id": "3c8203b0-9b5c-42ab-88b9-de30cddd19e0",
   "metadata": {},
   "outputs": [],
   "source": [
    "import matplotlib.pyplot as plt\n",
    "import numpy as np\n",
    "import pandas as pd"
   ]
  },
  {
   "cell_type": "code",
   "execution_count": null,
   "id": "a23a58e5-abc3-4fcd-a2b7-8fb38f842d45",
   "metadata": {},
   "outputs": [],
   "source": [
    "values = pd.read_csv(\"BMS/Data.csv\")"
   ]
  },
  {
   "cell_type": "code",
   "execution_count": null,
   "id": "a91e47bd-59fa-4bed-ad61-9f71caa6281e",
   "metadata": {},
   "outputs": [],
   "source": [
    "plt.plot(values[\"SoC\"], values[\"Voc\"], color='orange', linewidth=3)\n",
    "plt.xlabel(\"$SoC(%)$\", fontsize=15)\n",
    "plt.ylabel(\"$V_{OC}$\", fontsize=15)\n",
    "plt. title(\"$V_{OC} vs SoC(%)$\", fontsize=15)"
   ]
  }
 ],
 "metadata": {
  "kernelspec": {
   "display_name": "Python 3 (ipykernel)",
   "language": "python",
   "name": "python3"
  },
  "language_info": {
   "codemirror_mode": {
    "name": "ipython",
    "version": 3
   },
   "file_extension": ".py",
   "mimetype": "text/x-python",
   "name": "python",
   "nbconvert_exporter": "python",
   "pygments_lexer": "ipython3",
   "version": "3.10.2"
  }
 },
 "nbformat": 4,
 "nbformat_minor": 5
}

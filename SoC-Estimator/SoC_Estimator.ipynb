{
 "cells": [
  {
   "cell_type": "markdown",
   "id": "a4dd60b0-d41a-47a0-8744-b07a915188b1",
   "metadata": {},
   "source": [
    "# 🔋 **SoC Estimation from Open Circuit Voltage Measurement**\n",
    "***"
   ]
  },
  {
   "cell_type": "markdown",
   "id": "640ecd08-1873-4826-8cfd-6c5b6edf901d",
   "metadata": {},
   "source": [
    "### 📉 Measures percentage of battery pack through open circuit voltage measurements taken from Arduino"
   ]
  },
  {
   "cell_type": "markdown",
   "id": "e1380fdd-e88f-49ed-babc-a6cebbfbb70e",
   "metadata": {},
   "source": [
    "***\n",
    "#### 📚Library Imports"
   ]
  },
  {
   "cell_type": "code",
   "execution_count": null,
   "id": "0e653ceb-f5bf-47be-b440-07d55f6138f8",
   "metadata": {},
   "outputs": [],
   "source": [
    "import numpy as np\n",
    "import pandas as pd\n",
    "from scipy.optimize import fsolve"
   ]
  },
  {
   "cell_type": "markdown",
   "id": "b058b291-83da-46da-9ce0-4f4dd8f9ffe9",
   "metadata": {},
   "source": [
    "#### 💾 Ardunio NANO connected to COM5"
   ]
  },
  {
   "cell_type": "code",
   "execution_count": null,
   "id": "b7e959fa-586d-4847-9451-0d09983e0990",
   "metadata": {},
   "outputs": [],
   "source": [
    "arduino_port = \"COM5\"\n",
    "baud = 9600 \n",
    "ser = serial.Serial(arduino_port, baud)"
   ]
  },
  {
   "cell_type": "markdown",
   "id": "8670c458-b1a7-4a16-a379-354952243a9f",
   "metadata": {},
   "source": [
    "***\n",
    "## 🔢 Function Modelling\n",
    "\n",
    "##### Mapping equation based on \n",
    "##### $$V_{OC}(SoC) = K_0-K_{1}/SoC-K_{2}SoC+K_{3}ln(SoC)+K_{4}ln(1-SoC)$$\n",
    "\n",
    "The parameter vector $\\theta$ generated from notebook EKF_plotting used for the fitting\n",
    "\n",
    "| $\\theta$ | Value |\n",
    "| --- | :-: |\n",
    "| $K_0$ | 1.73195645e+00 |\n",
    "| $K_1$ | -2.49071394e-04 |\n",
    "| $K_2$ | 1.86198412e-02 |\n",
    "| $K_3$ | 5.02787935e+02 |\n",
    "| $K_4$ | -5.02783227e+02 |"
   ]
  },
  {
   "cell_type": "code",
   "execution_count": null,
   "id": "a5579464-0dd6-41cc-ba21-ab5b3e7b7964",
   "metadata": {},
   "outputs": [],
   "source": [
    "theta = pd.read_csv(\"Relation_param.csv\")\n",
    "\n",
    "def V_oc_vs_SoC(x) :\n",
    "    return (theta.iloc[0][0]-(theta.iloc[0][1]/x)-(theta.iloc[0][2]*x)+(theta.iloc[0][3]*np.log(x))+(theta.iloc[0][4]*np.log(x)))"
   ]
  },
  {
   "cell_type": "markdown",
   "id": "76535e7a-daa6-4201-9d1b-d574b921e79d",
   "metadata": {},
   "source": [
    "## 🔌 State of Charge Determination"
   ]
  },
  {
   "cell_type": "code",
   "execution_count": null,
   "id": "6660db9a-bf3e-4f3f-ba7a-7a90e954d113",
   "metadata": {},
   "outputs": [],
   "source": [
    "V_oc = float(str(ser.readline())[2:][:-5]\n",
    "SoC = fsolve(V_oc_vs_SoC - V_oc, 0.5)\n",
    "\n",
    "if SoC<0:\n",
    "    SoC=0\n",
    "\n",
    "print(\"At \"+V_oc+\"V, Percentage battery remaining = \"+(SoC*100))"
   ]
  },
  {
   "cell_type": "markdown",
   "id": "36e0c427-998d-4d8a-b16c-b0349306c34b",
   "metadata": {},
   "source": [
    "***\n",
    "## <center> 🔋Notebook Concludes 📖"
   ]
  },
  {
   "cell_type": "markdown",
   "id": "010ea963-cba6-4137-b55a-4b734ce1fbd8",
   "metadata": {},
   "source": [
    "***\n",
    "## Prasanna Paithankar\n",
    "### Department of Electrical Engineering, Indian Institute of Technology, Kharagpur\n",
    "\n",
    "##### Submitted to Autonomous Ground Vehical Research Group, IIT Kharagpur\n",
    "\n",
    "<img src=\"AGVlogo.png\" class=\"bg-primary\" width=\"200px\">"
   ]
  }
 ],
 "metadata": {
  "kernelspec": {
   "display_name": "Python 3 (ipykernel)",
   "language": "python",
   "name": "python3"
  },
  "language_info": {
   "codemirror_mode": {
    "name": "ipython",
    "version": 3
   },
   "file_extension": ".py",
   "mimetype": "text/x-python",
   "name": "python",
   "nbconvert_exporter": "python",
   "pygments_lexer": "ipython3",
   "version": "3.10.2"
  }
 },
 "nbformat": 4,
 "nbformat_minor": 5
}

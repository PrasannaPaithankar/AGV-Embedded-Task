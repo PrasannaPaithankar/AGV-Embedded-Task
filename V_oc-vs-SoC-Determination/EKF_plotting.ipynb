{
 "cells": [
  {
   "cell_type": "markdown",
   "id": "085e5ca7-b297-426e-a7b3-b26d34cb3362",
   "metadata": {},
   "source": [
    "# 🔋 **Extended Kalman Filter for Generating Open Circuit Voltage vs SoC Relationship**\n",
    "***"
   ]
  },
  {
   "cell_type": "markdown",
   "id": "5a33459d-e9d3-4d40-a80f-fa58de3110eb",
   "metadata": {},
   "source": [
    "### The notebook being divided into phases 📖\n",
    "🧪 **Data Proceesing** \n",
    "\n",
    "📊 **Data Visualization** \n",
    "\n",
    "📉 **Data Fitting** \n",
    "***"
   ]
  },
  {
   "cell_type": "markdown",
   "id": "c3bc6cb7-e550-4c82-a939-7b7fa447d7f3",
   "metadata": {},
   "source": [
    "#### 📚Library Imports"
   ]
  },
  {
   "cell_type": "code",
   "execution_count": 1,
   "id": "e030dd77-2eaa-42e7-8e57-b081ef4712a7",
   "metadata": {},
   "outputs": [],
   "source": [
    "import serial\n",
    "import numpy as np\n",
    "import matplotlib.pyplot as plt\n",
    "import pandas as pd\n",
    "from scipy.optimize import curve_fit"
   ]
  },
  {
   "cell_type": "markdown",
   "id": "17963e06-8c0c-46ea-af16-1be0e28e9d3e",
   "metadata": {
    "tags": []
   },
   "source": [
    "***\n",
    "## 🧪Phase 1 - Data Processing\n",
    ">   - Recieves open circuit voltage and current through bleeder resistor data from Measurement-to-Serial.ino\n",
    ">   - Extended Kalman Filter is applied to the data to process SoC\n",
    ">   - Open Circuit Voltage and SoC is stored in a CSV"
   ]
  },
  {
   "cell_type": "markdown",
   "id": "597f0fa6-2277-4d85-bd03-a9d58b062106",
   "metadata": {
    "tags": []
   },
   "source": [
    "#### 💾 Ardunio NANO connected to COM5"
   ]
  },
  {
   "cell_type": "code",
   "execution_count": 2,
   "id": "1d363fbd-b64e-4358-914e-d1f28e111bfd",
   "metadata": {},
   "outputs": [],
   "source": [
    "arduino_port = \"COM5\"\n",
    "baud = 9600 \n",
    "fileName=\"V_oc&SoC.csv\"\n",
    "ser = serial.Serial(arduino_port, baud)\n",
    "file = open(fileName, \"a\")"
   ]
  },
  {
   "cell_type": "markdown",
   "id": "a92f9eab-f2eb-4447-a1af-1be38cc4ddbe",
   "metadata": {},
   "source": [
    "#### 📲 Dual Polarization Model and EKF Parameters"
   ]
  },
  {
   "cell_type": "code",
   "execution_count": 3,
   "id": "1fd3b79f-7a64-40f3-8874-53fe6bea8199",
   "metadata": {},
   "outputs": [],
   "source": [
    "del_t = 100       #in milliseconds(ms)\n",
    "SoC = 1;\n",
    "V_ct = 0.007;\n",
    "V_df = 0.004;\n",
    "tau_ct = 4;\n",
    "tau_df = 100;\n",
    "R_ct = 0.001;\n",
    "R_df = 0.01;\n",
    "R_0 = 0.2;\n",
    "R_l = 2.2;\n",
    "Charge = 0.6*3600;\n",
    "\n",
    "\n",
    "x = np.array([[SoC],\n",
    "              [V_ct],\n",
    "              [V_df]]);\n",
    "\n",
    "A = np.array([[1, 0, 0],\n",
    "              [0, np.exp(-(del_t/1000)/tau_ct), 0],\n",
    "              [0, 0, np.exp(-(del_t/1000)/tau_df)]]);\n",
    "              \n",
    "B = np.array([[-(del_t/1000)/Charge],\n",
    "              [R_ct*(1-np.exp(-(del_t/1000)/tau_ct))],\n",
    "              [R_df*(1-np.exp(-(del_t/1000)/tau_df))]]);\n",
    "\n",
    "P = np.array([[1e-25, 0, 0],\n",
    "              [0, 1e-23, 0],         \n",
    "              [0, 0, 1e-23]]);\n",
    "\n",
    "R = np.array([1e-7]);\n",
    "\n",
    "Q = np.array([[1e-25, 0, 0],\n",
    "              [0, 1e-23, 0],         \n",
    "              [0, 0, 1e-23]]);\n",
    "\n",
    "C = np.array([1, -1, -1]);"
   ]
  },
  {
   "cell_type": "markdown",
   "id": "37597052-b6de-464e-b131-ae858b10b006",
   "metadata": {},
   "source": [
    "#### 🧮 **Extended Kalman Filter**\n",
    "> - Data Estimation\n",
    "> - Data Storage\n",
    "\n",
    "[1] Algorithm based on Carlo Taborelli, Simona Onori. (2014).\"[State of Charge Estimation\n",
    " Using Extended Kalman Filters for Battery Management System](https://ieeexplore.ieee.org/document/7056126)\". \n",
    " \n",
    " \n",
    "[2] Parameter Update based on \n",
    "    yu, Zhihao & Huai, Ruituo & Xiao, Linjing. (2015). \n",
    "    \"[State-of-Charge Estimation for Lithium-Ion Batteries \n",
    "    Using a Kalman Filter Based on Local Linearization](https://www.researchgate.net/publication/282462924_State-of-Charge_Estimation_for_Lithium-Ion_Batteries_Using_a_Kalman_Filter_Based_on_Local_Linearization)\".\n",
    "    "
   ]
  },
  {
   "cell_type": "code",
   "execution_count": 4,
   "id": "8b752dee-8c75-4bfc-9eb3-992e3e098ea5",
   "metadata": {},
   "outputs": [],
   "source": [
    "SoC = 1\n",
    "I = 0\n",
    "x[0][0]=1\n",
    "n=1\n",
    "\n",
    "while x[0][0] > 0.01:\n",
    "    getData=str(ser.readline())[2:][:-5]\n",
    "    I = getData[5:][:]\n",
    "    I = float(I)\n",
    "    \n",
    "    #Extended Kalman Estimator\n",
    "    \n",
    "    #19a\n",
    "    x_pred = np.dot(A, x)+(B*I)\n",
    "    \n",
    "    #19b\n",
    "    P_pred = np.dot(np.dot(A, P), np.transpose(A)) + Q\n",
    "    \n",
    "    #Parameter Update\n",
    "    C[0] = (float(getData[0:][:-5]))/x_pred[0][0]\n",
    "                                \n",
    "    #20a\n",
    "    L = np.dot(P_pred, np.transpose(C))/(np.dot(C, np.dot(P_pred, np.transpose(C)))+R)\n",
    "    \n",
    "    #20b\n",
    "    x = x_pred + (L*(I*R_l - np.dot(C, x_pred) + I*R_0))\n",
    "    \n",
    "    #20c\n",
    "    P = np.dot((np.identity(3, dtype = float) - np.dot(L, C)), P_pred)\n",
    "    \n",
    "    SoC = x[0][0]\n",
    "    \n",
    "    if n==1:\n",
    "        SoC = 1\n",
    "        x[0][0] = 1\n",
    "        n=0\n",
    "    \n",
    "    #Write to CSV\n",
    "    file = open(fileName, \"a\")\n",
    "    file.write(getData[0:][:-5]+\",\")\n",
    "    file.write(str(SoC))\n",
    "    file.write(\"\\n\")\n",
    "    \n",
    "file.close()"
   ]
  },
  {
   "cell_type": "markdown",
   "id": "caf3f2f3-ab3a-46b9-bc2f-03fad76cf77d",
   "metadata": {},
   "source": [
    "***\n",
    "## 📊 Phase 2 - Data Visualization\n",
    ">   - Reads data from CSV\n",
    ">   - Performs a Matplolib mapping"
   ]
  },
  {
   "cell_type": "code",
   "execution_count": 25,
   "id": "376a900e-4105-4d18-9c3c-3f59e97bf9fc",
   "metadata": {},
   "outputs": [
    {
     "data": {
      "text/plain": [
       "Text(0.5, 1.0, '$V_{OC}$ vs $SoC$')"
      ]
     },
     "execution_count": 25,
     "metadata": {},
     "output_type": "execute_result"
    },
    {
     "data": {
      "image/png": "[encoded data removed]",
      "text/plain": [
       "<Figure size 432x288 with 1 Axes>"
      ]
     },
     "metadata": {
      "needs_background": "light"
     },
     "output_type": "display_data"
    }
   ],
   "source": [
    "values = pd.read_csv(\"V_oc&SoC.csv\")\n",
    "plt.plot(values[\"SoC\"], values[\"Voc\"], color='orange', linewidth=3)\n",
    "plt.xlabel(\"$SoC$\", fontsize=13)\n",
    "plt.ylabel(\"$V_{OC}$\", fontsize=13)\n",
    "plt.ylim(0, 1.9)\n",
    "plt.xlim(0, 1.001)\n",
    "plt.grid(True)\n",
    "plt.title(\"$V_{OC}$ vs $SoC$\", fontsize=15)"
   ]
  },
  {
   "cell_type": "markdown",
   "id": "8e7f9370-f39f-41c3-b732-7efeb950ffa2",
   "metadata": {},
   "source": [
    "***\n",
    "## 📉 Phase 3 - Data Fitting\n",
    ">  Fits curve to the generated plot for further SoC estimation using open circuit voltage measurement\n",
    "\n",
    "##### Fitting equation based on \n",
    "##### $$V_{OC}(SoC) = K_0-K_{1}/SoC-K_{2}SoC+K_{3}ln(SoC)+K_{4}ln(1-SoC)$$\n",
    "pg. 7 of yu, Zhihao & Huai, Ruituo & Xiao, Linjing. (2015). \n",
    "    \"[State-of-Charge Estimation for Lithium-Ion Batteries \n",
    "    Using a Kalman Filter Based on Local Linearization](https://www.researchgate.net/publication/282462924_State-of-Charge_Estimation_for_Lithium-Ion_Batteries_Using_a_Kalman_Filter_Based_on_Local_Linearization)\".\n",
    "\n"
   ]
  },
  {
   "cell_type": "code",
   "execution_count": 28,
   "id": "a34f9d88-1fa1-4e24-aed6-44127626e431",
   "metadata": {},
   "outputs": [],
   "source": [
    "def guess_function(x, K0, K1, K2, K3, K4) :\n",
    "    return (K0-(K1/x)-(K2*x)+(K3*np.log(x))+(K4*np.log(x)))"
   ]
  },
  {
   "cell_type": "code",
   "execution_count": 29,
   "id": "89596b92-f98e-4930-865c-dd427de664cc",
   "metadata": {},
   "outputs": [],
   "source": [
    "popt, pcov=curve_fit(guess_function, values[\"SoC\"], values[\"Voc\"], p0=(1574.65, 144.12, 0.2874, 27.40315, 14.91685), maxfev=8000)"
   ]
  },
  {
   "cell_type": "code",
   "execution_count": 30,
   "id": "9aac9e80-9122-4a68-a962-6617e32108e1",
   "metadata": {},
   "outputs": [
    {
     "data": {
      "text/plain": [
       "array([ 1.73195645e+00, -2.49071394e-04,  1.86198412e-02,  5.02787935e+02,\n",
       "       -5.02783227e+02])"
      ]
     },
     "execution_count": 30,
     "metadata": {},
     "output_type": "execute_result"
    }
   ],
   "source": [
    "popt"
   ]
  },
  {
   "cell_type": "code",
   "execution_count": 35,
   "id": "9772a7f1-f7b7-4c82-a037-83cc895944d3",
   "metadata": {},
   "outputs": [],
   "source": [
    "param_file = open(\"Relation_param.csv\", \"a\")\n",
    "param_file.write(str(popt[0])+\",\"+str(popt[1])+\",\"+str(popt[2])+\",\"+str(popt[3])+\",\"+str(popt[4]))\n",
    "param_file.close()"
   ]
  },
  {
   "cell_type": "code",
   "execution_count": 49,
   "id": "ad449a18-fb5b-4a75-8633-d38905569faa",
   "metadata": {},
   "outputs": [
    {
     "data": {
      "image/png": "[encoded data removed]",
      "text/plain": [
       "<Figure size 432x288 with 1 Axes>"
      ]
     },
     "metadata": {
      "needs_background": "light"
     },
     "output_type": "display_data"
    }
   ],
   "source": [
    "t= np.linspace(0.01001, 1, 2000)\n",
    "plt.plot(values[\"SoC\"], values[\"Voc\"], 'co', markersize=5)\n",
    "plt.ylim(1.68, 1.9)\n",
    "plt.xlim(0, 1.1)\n",
    "plt.xlabel(\"$SoC(%)$\", fontsize=13)\n",
    "plt.ylabel(\"$V_{OC}$\", fontsize=13)\n",
    "plt.title(\"$V_{OC} vs SoC(%)$\", fontsize=15)\n",
    "plt.grid(True)\n",
    "plt.plot(t, guess_function(t, popt[0], popt[1], popt[2], popt[3], popt[4]),'r-', linewidth = 7 )\n",
    "plt.legend(['Measured', 'Fitted Curve'], borderpad=1.1)\n",
    "plt.show()"
   ]
  },
  {
   "cell_type": "markdown",
   "id": "7fe55e36-4d0e-444b-9acb-364dbbe311f9",
   "metadata": {},
   "source": [
    "#### We get the curve fitting parameters as follows\n",
    "\n",
    "$$\\theta = \\begin{bmatrix} K_0 \\\\ K_1 \\\\ K_2 \\\\ K_3 \\\\ K_4 \\end{bmatrix}=\\begin{bmatrix}  1.73195645 \\\\ -0.000249071394 \\\\ 0.0186198412 \\\\ 502.787935 \\\\ -502.783227 \\end{bmatrix}$$\n",
    "##### Covariance for the fitting "
   ]
  },
  {
   "cell_type": "code",
   "execution_count": 42,
   "id": "e5a9831f-750f-451f-9819-4b5e3d5a7dd5",
   "metadata": {},
   "outputs": [
    {
     "data": {
      "image/png": "[encoded data removed]",
      "text/plain": [
       "<Figure size 432x288 with 2 Axes>"
      ]
     },
     "metadata": {
      "needs_background": "light"
     },
     "output_type": "display_data"
    }
   ],
   "source": [
    "pcov\n",
    "plt.imshow(np.log(np.abs(pcov)))\n",
    "plt.colorbar()\n",
    "plt.title('Covariance ColourBar')\n",
    "plt.show()"
   ]
  },
  {
   "cell_type": "markdown",
   "id": "ffb488d7-64f0-470e-b59f-b3c5becdc729",
   "metadata": {},
   "source": [
    "***\n",
    "## <center> 🔋Notebook Concludes 📖"
   ]
  },
  {
   "cell_type": "markdown",
   "id": "0630536d-2c62-4135-b723-681d3bf30220",
   "metadata": {},
   "source": [
    "***\n",
    "## Prasanna Paithankar\n",
    "### Department of Electrical Engineering, Indian Institute of Technology, Kharagpur\n",
    "\n",
    "##### Submitted to Autonomous Ground Vehical Research Group, IIT Kharagpur\n",
    "\n",
    "<img src=\"AGVlogo.png\" class=\"bg-primary\" width=\"200px\">"
   ]
  }
 ],
 "metadata": {
  "kernelspec": {
   "display_name": "Python 3 (ipykernel)",
   "language": "python",
   "name": "python3"
  },
  "language_info": {
   "codemirror_mode": {
    "name": "ipython",
    "version": 3
   },
   "file_extension": ".py",
   "mimetype": "text/x-python",
   "name": "python",
   "nbconvert_exporter": "python",
   "pygments_lexer": "ipython3",
   "version": "3.10.2"
  }
 },
 "nbformat": 4,
 "nbformat_minor": 5
}
